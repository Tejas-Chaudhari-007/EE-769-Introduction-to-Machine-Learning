{
  "nbformat": 4,
  "nbformat_minor": 0,
  "metadata": {
    "colab": {
      "name": "EE 769 Tutorial 3.ipynb",
      "provenance": [],
      "collapsed_sections": [],
      "include_colab_link": true
    },
    "kernelspec": {
      "name": "python3",
      "display_name": "Python 3"
    }
  },
  "cells": [
    {
      "cell_type": "markdown",
      "metadata": {
        "id": "view-in-github",
        "colab_type": "text"
      },
      "source": [
        "<a href=\"https://colab.research.google.com/github/Tejas-Chaudhari-007/EE-769-Introduction-to-Machine-Learning/blob/main/Tutorials/EE_769_Tutorial_3.ipynb\" target=\"_parent\"><img src=\"https://colab.research.google.com/assets/colab-badge.svg\" alt=\"Open In Colab\"/></a>"
      ]
    },
    {
      "cell_type": "code",
      "metadata": {
        "colab": {
          "base_uri": "https://localhost:8080/"
        },
        "id": "UswjfjJgl_w8",
        "outputId": "e334b5ca-56d8-4c70-99ba-695fabc4a7a9"
      },
      "source": [
        "import numpy\n",
        "import matplotlib.pyplot as plt\n",
        "from sklearn.linear_model import LinearRegression\n",
        "random_generator = numpy.random.RandomState()\n",
        "x = random_generator.uniform(0, 3, 100)\n",
        "x"
      ],
      "execution_count": null,
      "outputs": [
        {
          "output_type": "execute_result",
          "data": {
            "text/plain": [
              "array([0.40468608, 0.84800172, 1.84580947, 2.73138236, 0.77914783,\n",
              "       1.56457026, 0.13266827, 1.87368431, 1.15989662, 0.3754425 ,\n",
              "       2.3048491 , 2.88557621, 0.58773159, 2.15313623, 2.11987508,\n",
              "       0.51544158, 0.33366959, 0.12796928, 1.52977176, 1.68314325,\n",
              "       0.9719917 , 2.63154883, 0.51857569, 2.76526998, 1.59628628,\n",
              "       1.85893325, 0.16653713, 0.53099797, 2.90563503, 1.94109631,\n",
              "       2.15033244, 2.97089012, 1.64032725, 0.74534084, 0.09201359,\n",
              "       2.40432102, 1.05874298, 2.19014713, 1.01790907, 1.49349143,\n",
              "       0.74912493, 0.17678167, 2.34091686, 2.25276506, 1.16558029,\n",
              "       2.43908818, 2.85467763, 2.08354424, 1.82197302, 2.02449201,\n",
              "       1.60712541, 0.72822533, 0.76119613, 2.67872587, 1.31025877,\n",
              "       0.61352242, 2.08510337, 0.34030992, 2.96013781, 2.63775521,\n",
              "       2.43579947, 1.20197238, 0.42227523, 0.51475458, 0.73244583,\n",
              "       1.02825077, 1.02357661, 2.23924325, 1.5902814 , 1.45174449,\n",
              "       0.12610821, 1.82379273, 1.74438537, 2.3633599 , 0.44892898,\n",
              "       2.48667348, 2.74348078, 0.71337941, 0.59306123, 1.68874484,\n",
              "       0.37867275, 0.03277262, 0.13848711, 1.88170732, 1.4975591 ,\n",
              "       2.61172347, 2.34425892, 2.79512947, 1.83409398, 1.38209481,\n",
              "       2.80776892, 2.56389833, 2.60505599, 1.39481337, 1.32331963,\n",
              "       1.20150339, 0.08999099, 1.55523899, 1.74485766, 1.40431491])"
            ]
          },
          "metadata": {
            "tags": []
          },
          "execution_count": 66
        }
      ]
    },
    {
      "cell_type": "code",
      "metadata": {
        "colab": {
          "base_uri": "https://localhost:8080/"
        },
        "id": "svdc7sEunGtG",
        "outputId": "52796c7d-80c4-4656-8b33-7f3c28599307"
      },
      "source": [
        "mean = 0\n",
        "std = 2 \n",
        "num_samples = 100\n",
        "noise = numpy.random.normal(mean, std, size=num_samples)\n",
        "noise"
      ],
      "execution_count": null,
      "outputs": [
        {
          "output_type": "execute_result",
          "data": {
            "text/plain": [
              "array([-2.09501866, -2.8504592 , -3.88147223, -0.63713991,  0.29726204,\n",
              "        0.8440248 , -0.24653874,  1.57311493,  1.19302962,  0.58288878,\n",
              "       -2.35663759,  0.25172161,  3.31560007, -2.30776541,  0.89962161,\n",
              "        2.13915772,  1.31658892, -3.83060535,  3.06075309,  1.01022585,\n",
              "        0.72939989, -0.36348437,  1.14184994,  1.10506481, -0.98697872,\n",
              "       -2.07637383, -1.50580649, -0.59772082,  1.97766023,  2.56076894,\n",
              "       -0.75701372,  1.63619497,  0.67805489, -3.09556477, -3.95072115,\n",
              "        1.42419638, -1.25394262, -0.63320401, -4.25135138,  1.83723423,\n",
              "        2.5632468 , -2.29269611, -4.37718552,  0.42725854, -1.98543888,\n",
              "        2.68775786, -1.71175525, -2.28935251,  4.612094  ,  1.99453985,\n",
              "       -0.54644645,  4.16764613,  3.632257  , -0.71969776,  1.85530608,\n",
              "        2.97215997,  2.28051215, -4.64803638,  1.14957506,  1.48666301,\n",
              "       -0.47391018,  0.89063337,  0.5821353 ,  2.51711436,  2.9014632 ,\n",
              "       -1.56134715,  1.57035539,  4.98555352,  3.00824078,  0.06601142,\n",
              "        1.0732006 ,  1.97486811,  1.03444507, -0.1608565 ,  2.17400443,\n",
              "       -1.08359769,  1.26688611,  2.51325797,  0.95575537,  0.85390463,\n",
              "       -3.92111411, -2.03369685, -3.59570065,  0.88218928,  0.80519908,\n",
              "       -0.59612659,  0.67803729,  0.12633817, -1.28883459, -4.4687288 ,\n",
              "       -0.17656113, -0.28283454, -1.126808  ,  1.49895121, -1.59872358,\n",
              "        1.8257441 , -0.01261166, -0.92483367,  1.02423682,  2.39532903])"
            ]
          },
          "metadata": {
            "tags": []
          },
          "execution_count": 71
        }
      ]
    },
    {
      "cell_type": "code",
      "metadata": {
        "colab": {
          "base_uri": "https://localhost:8080/",
          "height": 282
        },
        "id": "En2F0HQ0oWd6",
        "outputId": "0959503f-cab1-4022-984a-26b2a5e4085e"
      },
      "source": [
        "t = 2*x**3-4*x**2+3*x+5\n",
        "plt.scatter(x,t)\n",
        "t = 2*x**3-4*x**2+3*x+5 + noise\n",
        "plt.scatter(x,t)"
      ],
      "execution_count": null,
      "outputs": [
        {
          "output_type": "execute_result",
          "data": {
            "text/plain": [
              "<matplotlib.collections.PathCollection at 0x7f0de82c10f0>"
            ]
          },
          "metadata": {
            "tags": []
          },
          "execution_count": 72
        },
        {
          "output_type": "display_data",
          "data": {
            "image/png": "[encoded data removed]",
            "text/plain": [
              "<Figure size 432x288 with 1 Axes>"
            ]
          },
          "metadata": {
            "tags": [],
            "needs_background": "light"
          }
        }
      ]
    },
    {
      "cell_type": "code",
      "metadata": {
        "colab": {
          "base_uri": "https://localhost:8080/"
        },
        "id": "GPizbvZTrMv2",
        "outputId": "40324f00-cac5-4483-bb1e-8110ea4bbd34"
      },
      "source": [
        "powers_of_x = [3, 2, 1, 0]\n",
        "powers_of_x"
      ],
      "execution_count": null,
      "outputs": [
        {
          "output_type": "execute_result",
          "data": {
            "text/plain": [
              "[3, 2, 1, 0]"
            ]
          },
          "metadata": {
            "tags": []
          },
          "execution_count": 73
        }
      ]
    },
    {
      "cell_type": "code",
      "metadata": {
        "colab": {
          "base_uri": "https://localhost:8080/",
          "height": 265
        },
        "id": "3BKoTzfKr99K",
        "outputId": "963c3add-73fe-4646-ec7f-3faacb9465c5"
      },
      "source": [
        "mymodel = numpy.poly1d(numpy.polyfit(x, t, 3))\n",
        "myline = numpy.linspace(0, 3, 100)\n",
        "plt.scatter(x, t)\n",
        "plt.plot(myline, mymodel(myline))\n",
        "plt.show()"
      ],
      "execution_count": null,
      "outputs": [
        {
          "output_type": "display_data",
          "data": {
            "image/png": "[encoded data removed]",
            "text/plain": [
              "<Figure size 432x288 with 1 Axes>"
            ]
          },
          "metadata": {
            "tags": [],
            "needs_background": "light"
          }
        }
      ]
    },
    {
      "cell_type": "code",
      "metadata": {
        "colab": {
          "base_uri": "https://localhost:8080/"
        },
        "id": "LflAmsAsuQUc",
        "outputId": "2300dff5-4a9e-496d-e516-05a70e5fe985"
      },
      "source": [
        "mymodel"
      ],
      "execution_count": null,
      "outputs": [
        {
          "output_type": "execute_result",
          "data": {
            "text/plain": [
              "poly1d([ 2.97002694, -8.974803  , 10.31434359,  2.60114731])"
            ]
          },
          "metadata": {
            "tags": []
          },
          "execution_count": 76
        }
      ]
    }
  ]
}