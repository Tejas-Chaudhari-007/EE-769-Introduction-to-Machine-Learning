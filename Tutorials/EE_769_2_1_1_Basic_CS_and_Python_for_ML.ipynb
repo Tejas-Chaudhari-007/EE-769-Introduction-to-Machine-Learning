{
  "nbformat": 4,
  "nbformat_minor": 0,
  "metadata": {
    "colab": {
      "name": "EE 769 2 1 1 Basic CS and Python for ML.ipynb",
      "provenance": [],
      "include_colab_link": true
    },
    "kernelspec": {
      "name": "python3",
      "display_name": "Python 3"
    },
    "language_info": {
      "name": "python"
    }
  },
  "cells": [
    {
      "cell_type": "markdown",
      "metadata": {
        "id": "view-in-github",
        "colab_type": "text"
      },
      "source": [
        "<a href=\"https://colab.research.google.com/github/Tejas-Chaudhari-007/EE-769-Introduction-to-Machine-Learning/blob/main/Tutorials/EE_769_2_1_1_Basic_CS_and_Python_for_ML.ipynb\" target=\"_parent\"><img src=\"https://colab.research.google.com/assets/colab-badge.svg\" alt=\"Open In Colab\"/></a>"
      ]
    },
    {
      "cell_type": "markdown",
      "metadata": {
        "id": "WfJ5gkaEZcyD"
      },
      "source": [
        "# Introduction to CS and Python concepts for ML\n",
        "\n",
        "For the course EE 769: Introduction to Machine Learning @IITB by Prof. Amit Sethi\n",
        "\n",
        "Note: \n",
        "The best way to learn is to type the code while watching the video in parts\n",
        "\n",
        "\n",
        "*   Constants, variables and naming\n",
        "*   Conditions\n",
        "*   Functions\n",
        "*   Numpy arrays and linear algebra\n",
        "*   While loop \n",
        "*   For loop\n",
        "*   Vectorization\n",
        "*   Big-O for time complexity ( linear search in O(n), binary search in O(log n) )\n",
        "\n",
        "\n",
        "\n",
        "\n",
        "\n"
      ]
    },
    {
      "cell_type": "markdown",
      "metadata": {
        "id": "pPFxVvwSa2qi"
      },
      "source": [
        "## 1. Constants, variables, and naming\n"
      ]
    },
    {
      "cell_type": "code",
      "metadata": {
        "colab": {
          "base_uri": "https://localhost:8080/"
        },
        "id": "vIrW7hnS-8Vk",
        "outputId": "bd398edd-4911-489b-f88a-e2ffd6809f42"
      },
      "source": [
        "# Bad example of hard-coding\n",
        "\n",
        "print('Area of the circle is  ' + str(3.1416 * 4 * 4))\n",
        "# '+' sign concatenates strings in the line above"
      ],
      "execution_count": null,
      "outputs": [
        {
          "output_type": "stream",
          "text": [
            "Area of the circle is  50.2656\n"
          ],
          "name": "stdout"
        }
      ]
    },
    {
      "cell_type": "code",
      "metadata": {
        "colab": {
          "base_uri": "https://localhost:8080/"
        },
        "id": "V4namfG3Ak4_",
        "outputId": "43ef0afa-b6c3-47ee-b83f-e46ba5063beb"
      },
      "source": [
        "# Better example of using variables\n",
        "\n",
        "a = 3.1416\n",
        "b = 4\n",
        "\n",
        "print('Area of the circle is ' + str(a * b * b))\n"
      ],
      "execution_count": null,
      "outputs": [
        {
          "output_type": "stream",
          "text": [
            "Area of the circle is 50.2656\n"
          ],
          "name": "stdout"
        }
      ]
    },
    {
      "cell_type": "code",
      "metadata": {
        "colab": {
          "base_uri": "https://localhost:8080/"
        },
        "id": "Ot96BKWdA7h-",
        "outputId": "530b9a42-2954-4940-d91e-c765a60161c7"
      },
      "source": [
        "# Even better example with self-explanatory variable names\n",
        "# By convention we use CAPS for denoting constants\n",
        "\n",
        "PI = 3.1416\n",
        "\n",
        "radius = 4.0  # adding a decimal ensures that the number is float (decimal)\n",
        "area = PI * radius * radius\n",
        "\n",
        "print('Area of the circle is ' + str(area))"
      ],
      "execution_count": null,
      "outputs": [
        {
          "output_type": "stream",
          "text": [
            "Area of the circle is 50.2656\n"
          ],
          "name": "stdout"
        }
      ]
    },
    {
      "cell_type": "markdown",
      "metadata": {
        "id": "r7x9jCzjBpjt"
      },
      "source": [
        "## 2. Conditions"
      ]
    },
    {
      "cell_type": "code",
      "metadata": {
        "colab": {
          "base_uri": "https://localhost:8080/",
          "height": 253
        },
        "id": "WUkcQA7cBrur",
        "outputId": "58ccb2c9-957b-4802-eef6-c22f679a5a1c"
      },
      "source": [
        "# Lazy programming\n",
        "# Pros - fast,\n",
        "# Cons - hard to understand after a week, inflexible, error-prone\n",
        "\n",
        "x = float(input('Enter a whole number to check if it is divisible by 7 : '))\n",
        "if round(x/7, 0) == x/7:  # Checking for divisibility\n",
        "    print('The number is divisible by 7')  # Result\n",
        "else:  # Not divisible\n",
        "    print('The number is NOT divisible by 7')  # Result"
      ],
      "execution_count": null,
      "outputs": [
        {
          "output_type": "stream",
          "text": [
            "Enter a whole number to check if it is divisible by 7 : a\n"
          ],
          "name": "stdout"
        },
        {
          "output_type": "error",
          "ename": "ValueError",
          "evalue": "ignored",
          "traceback": [
            "\u001b[0;31m---------------------------------------------------------------------------\u001b[0m",
            "\u001b[0;31mValueError\u001b[0m                                Traceback (most recent call last)",
            "\u001b[0;32m<ipython-input-8-e0df87b3c808>\u001b[0m in \u001b[0;36m<module>\u001b[0;34m()\u001b[0m\n\u001b[1;32m      3\u001b[0m \u001b[0;31m# Cons - hard to understand after a week, inflexible, error-prone\u001b[0m\u001b[0;34m\u001b[0m\u001b[0;34m\u001b[0m\u001b[0;34m\u001b[0m\u001b[0m\n\u001b[1;32m      4\u001b[0m \u001b[0;34m\u001b[0m\u001b[0m\n\u001b[0;32m----> 5\u001b[0;31m \u001b[0mx\u001b[0m \u001b[0;34m=\u001b[0m \u001b[0mfloat\u001b[0m\u001b[0;34m(\u001b[0m\u001b[0minput\u001b[0m\u001b[0;34m(\u001b[0m\u001b[0;34m'Enter a whole number to check if it is divisible by 7 : '\u001b[0m\u001b[0;34m)\u001b[0m\u001b[0;34m)\u001b[0m\u001b[0;34m\u001b[0m\u001b[0;34m\u001b[0m\u001b[0m\n\u001b[0m\u001b[1;32m      6\u001b[0m \u001b[0;32mif\u001b[0m \u001b[0mround\u001b[0m\u001b[0;34m(\u001b[0m\u001b[0mx\u001b[0m\u001b[0;34m/\u001b[0m\u001b[0;36m7\u001b[0m\u001b[0;34m,\u001b[0m \u001b[0;36m0\u001b[0m\u001b[0;34m)\u001b[0m \u001b[0;34m==\u001b[0m \u001b[0mx\u001b[0m\u001b[0;34m/\u001b[0m\u001b[0;36m7\u001b[0m\u001b[0;34m:\u001b[0m  \u001b[0;31m# Checking for divisibility\u001b[0m\u001b[0;34m\u001b[0m\u001b[0;34m\u001b[0m\u001b[0m\n\u001b[1;32m      7\u001b[0m     \u001b[0mprint\u001b[0m\u001b[0;34m(\u001b[0m\u001b[0;34m'The number is divisible by 7'\u001b[0m\u001b[0;34m)\u001b[0m  \u001b[0;31m# Result\u001b[0m\u001b[0;34m\u001b[0m\u001b[0;34m\u001b[0m\u001b[0m\n",
            "\u001b[0;31mValueError\u001b[0m: could not convert string to float: 'a'"
          ]
        }
      ]
    },
    {
      "cell_type": "code",
      "metadata": {
        "colab": {
          "base_uri": "https://localhost:8080/"
        },
        "id": "YnTiNlV6EqCC",
        "outputId": "40137a30-1742-4abd-bac1-802a42f1f6f4"
      },
      "source": [
        "# Notice good programming fundamentals\n",
        "#   Different types of inputs are assumed\n",
        "#   Errors are caught before they crash your program\n",
        "#   Variables are used instead of hard-coding\n",
        "#   Variable names are self-explanatory\n",
        "#   Copious use of comments\n",
        "# Notice how nested if's work. Also read about elif.\n",
        "\n",
        "divisible_by = 7  # Using a variable makes it easy to change the program for div by 12\n",
        "\n",
        "# User input\n",
        "x = input('Enter a whole number to check if it is divisible by ' + str(divisible_by) + ' : ')\n",
        "\n",
        "# Checking divisibility\n",
        "try:\n",
        "    x = float(x)\n",
        "    # Above line fails if no number is entered.\n",
        "    # We catch that error using try-else\n",
        "\n",
        "    if round(x, 0) == x:  # Checking for whole number\n",
        "        if round(x/divisible_by, 0) == x/divisible_by:  # Checking divisibility\n",
        "            print('The number is divisible by ' + str(divisible_by) + '.')  # Result\n",
        "        else:  # Not divisible\n",
        "            print('The number is not divisible by ' + str(divisible_by) + '.')\n",
        "    else:  # Not a whole number\n",
        "        print('You have not entered whole number. Please enter a whole number.')\n",
        "\n",
        "except ValueError:  # Did not enter a number\n",
        "    print('You have not entered number. Please enter number.')  # Result\n",
        "\n",
        "# Note: we can have multiple 'except'"
      ],
      "execution_count": null,
      "outputs": [
        {
          "output_type": "stream",
          "text": [
            "Enter a whole number to check if it is divisible by 7 : asd\n",
            "You have not entered number. Please enter number.\n"
          ],
          "name": "stdout"
        }
      ]
    },
    {
      "cell_type": "markdown",
      "metadata": {
        "id": "waWzZchxG-1q"
      },
      "source": [
        "## 3. Functions\n"
      ]
    },
    {
      "cell_type": "code",
      "metadata": {
        "colab": {
          "base_uri": "https://localhost:8080/"
        },
        "id": "r20kEmIHHArN",
        "outputId": "c98fedd9-99c4-4e61-e7d8-13d6ad5ae117"
      },
      "source": [
        "# You can outsource some repetitive jobs from the main program to functions\n",
        "# It also makes the program more readable\n",
        "\n",
        "# Function\n",
        "def check_divisibility(numerator, denominator):\n",
        "    try:\n",
        "        numerator = float(numerator)  # To check if the input is number or not\n",
        "        if round(numerator, 0) == numerator:  # Check if whole number\n",
        "            if round(numerator/denominator, 0) == numerator/denominator:  # Check divisibility\n",
        "                print('The number is divisible by ' + str(denominator) + '.')  # Result\n",
        "                return True\n",
        "            else:  # Not divisible\n",
        "                print('The number is not divisible by ' + str(denominator) + '.')  # Result\n",
        "                return False\n",
        "        else: # Not whole number\n",
        "            print('Please enter a whole number in the \"check_divisibility\" function')  # Result\n",
        "            return False\n",
        "    except ValueError:  # Input is not a number\n",
        "        print('Please enter a number to the \"check_divisibility\" function')  # Result\n",
        "        return False\n",
        "\n",
        "\n",
        "# Main Prgram\n",
        "divisible_by = 7  # Using a variable makes it easy to change the program for checking divisibility by another number\n",
        "\n",
        "x = input('Please enter a number to check the divisibility by ' + str(divisible_by) + ' : ')\n",
        "_ = check_divisibility(x, divisible_by)\n",
        "\n",
        "# Adding an underscore in the beginning is like adding a dummy variable\n",
        "# Without that returned value (in this case - True or False) will be printed"
      ],
      "execution_count": null,
      "outputs": [
        {
          "output_type": "stream",
          "text": [
            "Please enter a number to check the divisibility by 7 : 21.0\n",
            "The number is divisible by 7.\n"
          ],
          "name": "stdout"
        }
      ]
    },
    {
      "cell_type": "markdown",
      "metadata": {
        "id": "EvPk8YtCPEQ7"
      },
      "source": [
        "## 4. Numpy arrays"
      ]
    },
    {
      "cell_type": "code",
      "metadata": {
        "id": "NzHpAVNvOnF-"
      },
      "source": [
        ""
      ],
      "execution_count": null,
      "outputs": []
    }
  ]
}