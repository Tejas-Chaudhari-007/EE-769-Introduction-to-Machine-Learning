{
  "nbformat": 4,
  "nbformat_minor": 0,
  "metadata": {
    "colab": {
      "name": "Tutorial 3 Q5.ipynb",
      "provenance": [],
      "collapsed_sections": [],
      "include_colab_link": true
    },
    "kernelspec": {
      "name": "python3",
      "display_name": "Python 3"
    },
    "language_info": {
      "name": "python"
    }
  },
  "cells": [
    {
      "cell_type": "markdown",
      "metadata": {
        "id": "view-in-github",
        "colab_type": "text"
      },
      "source": [
        "<a href=\"https://colab.research.google.com/github/Tejas-Chaudhari-007/EE-769-Introduction-to-Machine-Learning/blob/main/Tutorials/Tutorial_3_Q5.ipynb\" target=\"_parent\"><img src=\"https://colab.research.google.com/assets/colab-badge.svg\" alt=\"Open In Colab\"/></a>"
      ]
    },
    {
      "cell_type": "markdown",
      "metadata": {
        "id": "M68ZTul35LPw"
      },
      "source": [
        "# Tutorial 3\n",
        "## Q.5 \n"
      ]
    },
    {
      "cell_type": "code",
      "metadata": {
        "id": "932DMDA35Uos"
      },
      "source": [
        "# Import packages\n",
        "import numpy as np\n",
        "import matplotlib.pyplot as plt\n",
        "import pandas as pd\n",
        "from sklearn.model_selection import train_test_split"
      ],
      "execution_count": null,
      "outputs": []
    },
    {
      "cell_type": "markdown",
      "metadata": {
        "id": "iY0daWUWEaXo"
      },
      "source": [
        "### (a) \n",
        "Generate a range of values for independent (input) variable x."
      ]
    },
    {
      "cell_type": "code",
      "metadata": {
        "colab": {
          "base_uri": "https://localhost:8080/"
        },
        "id": "CJkTjnvS5fFy",
        "outputId": "10cd84bc-f761-48a0-f20d-b10f780b6bd9"
      },
      "source": [
        "# Generate range of values for independent input variable x\n",
        "n = 100  # Total number of data points\n",
        "x_vector = np.random.uniform(low=-2, high=3, size=n)  # Draws n samples from uniform distribution within given range\n",
        "print('Input variable x', np.around(x_vector,decimals=1))"
      ],
      "execution_count": null,
      "outputs": [
        {
          "output_type": "stream",
          "text": [
            "Input variable x [-1.1  2.9  2.2 -0.9  1.3  0.5  2.4  1.4  2.8  0.7  1.9 -1.5  1.3  0.4\n",
            " -1.1  1.4  0.1  2.8  2.4 -1.9 -0.7  0.4  1.4 -1.2  0.2  0.2 -1.4  1.3\n",
            " -1.9  1.4 -1.4  2.1 -1.6  2.6  1.2 -0.7  0.  -1.5  0.4  2.5 -0.8 -0.2\n",
            "  2.  -1.3 -0.6  2.2 -1.9 -0.7  2.5  1.9  3.   1.9  3.   1.8  0.8 -1.8\n",
            "  0.6  1.9  2.9 -1.2 -1.8  0.9  2.8  2.8  1.2 -1.3 -1.3  2.7  1.4 -1.6\n",
            "  2.  -1.6 -1.1  2.8  0.7  1.8 -1.6 -0.5  2.6  2.9 -0.4  0.4 -0.2  1.1\n",
            " -0.3  1.3 -0.3  0.2  2.4  0.2 -1.1  0.  -0.4 -1.1  1.3  0.9  0.4 -1.2\n",
            "  1.2  1.1]\n"
          ],
          "name": "stdout"
        }
      ]
    },
    {
      "cell_type": "markdown",
      "metadata": {
        "id": "h2iHYef1EehV"
      },
      "source": [
        "### (b) \n",
        "Generate the dependent (output) variable t as a third-degree polynomial of x plus\n",
        "some IID random Gaussian noise with 0 mean and a fixed variance. Initially, keep\n",
        "the variance as 0. Plot x and t as a scatter plot, and plot the ideal polynomial\n",
        "curve in the same figure overlaid."
      ]
    },
    {
      "cell_type": "code",
      "metadata": {
        "colab": {
          "base_uri": "https://localhost:8080/",
          "height": 355
        },
        "id": "Uh3iI6SGEhMa",
        "outputId": "9eba038f-44ac-4dc7-8472-f3f257b6d8ef"
      },
      "source": [
        "# Define 3rd order polynomial of x and output variable 't' with noise sampled from Gaussian distribution\n",
        "coeff_list = [2, -4, -5, 6]\n",
        "P3_x_vector = np.polyval(coeff_list, x_vector) # Polynomial of x with degree 3\n",
        "noise = np.random.normal(loc=0, scale=1, size=n)  # Draw n samples from Gaussian distribution from given mean and standard deviation\n",
        "t_vector = P3_x_vector + noise  # Generate Target variable\n",
        "\n",
        "# Plot 't' vs 'x' and '3rd order polynomial of x' vs 'x' in same plot\n",
        "f, ax = plt.subplots(1)\n",
        "ax.plot(np.sort(x_vector), np.polyval([2, -4, -5, 6], np.sort(x_vector)), label='3rd order polynomial of x', color='green')\n",
        "ax.scatter(x_vector, t_vector, marker='o', color='', edgecolors='red', alpha=0.7)\n",
        "ax.set_xlabel('x')\n",
        "ax.set_ylabel('t')\n",
        "ax.legend()"
      ],
      "execution_count": null,
      "outputs": [
        {
          "output_type": "stream",
          "text": [
            "/usr/local/lib/python3.7/dist-packages/ipykernel_launcher.py:10: MatplotlibDeprecationWarning: Using a string of single character colors as a color sequence is deprecated. Use an explicit list instead.\n",
            "  # Remove the CWD from sys.path while we load stuff.\n"
          ],
          "name": "stderr"
        },
        {
          "output_type": "execute_result",
          "data": {
            "text/plain": [
              "<matplotlib.legend.Legend at 0x7f5fd9568590>"
            ]
          },
          "metadata": {
            "tags": []
          },
          "execution_count": 36
        },
        {
          "output_type": "display_data",
          "data": {
            "image/png": "[encoded data removed]",
            "text/plain": [
              "<Figure size 432x288 with 1 Axes>"
            ]
          },
          "metadata": {
            "tags": [],
            "needs_background": "light"
          }
        }
      ]
    },
    {
      "cell_type": "markdown",
      "metadata": {
        "id": "05lSx3JWW91u"
      },
      "source": [
        "### (c)\n",
        "Generate x as a vector of powers of x, including x0. With all the samples, this will\n",
        "become the data matrix X."
      ]
    },
    {
      "cell_type": "code",
      "metadata": {
        "colab": {
          "base_uri": "https://localhost:8080/",
          "height": 408
        },
        "id": "4bvNEX9ZTXRq",
        "outputId": "786861b7-b712-442e-de90-35ea7a2a45c7"
      },
      "source": [
        "# Generate data matrix\n",
        "x_matrix = np.column_stack((coeff_list[0]*x_vector**3, coeff_list[1]*x_vector**2, coeff_list[2]*x_vector**1, coeff_list[3]*x_vector**0))  # Input matrix\n",
        "data_df = pd.DataFrame(np.column_stack((x_matrix,t_vector)), columns=['Power_3', 'Power_2', 'Power_1', 'Power_0', 'Target'])  # Input and target  \n",
        "data_df.round(1) # Display rounded DataFrame with 1 digit"
      ],
      "execution_count": null,
      "outputs": [
        {
          "output_type": "execute_result",
          "data": {
            "text/html": [
              "<div>\n",
              "<style scoped>\n",
              "    .dataframe tbody tr th:only-of-type {\n",
              "        vertical-align: middle;\n",
              "    }\n",
              "\n",
              "    .dataframe tbody tr th {\n",
              "        vertical-align: top;\n",
              "    }\n",
              "\n",
              "    .dataframe thead th {\n",
              "        text-align: right;\n",
              "    }\n",
              "</style>\n",
              "<table border=\"1\" class=\"dataframe\">\n",
              "  <thead>\n",
              "    <tr style=\"text-align: right;\">\n",
              "      <th></th>\n",
              "      <th>Power_3</th>\n",
              "      <th>Power_2</th>\n",
              "      <th>Power_1</th>\n",
              "      <th>Power_0</th>\n",
              "      <th>Target</th>\n",
              "    </tr>\n",
              "  </thead>\n",
              "  <tbody>\n",
              "    <tr>\n",
              "      <th>0</th>\n",
              "      <td>-2.4</td>\n",
              "      <td>-4.5</td>\n",
              "      <td>5.3</td>\n",
              "      <td>6.0</td>\n",
              "      <td>5.2</td>\n",
              "    </tr>\n",
              "    <tr>\n",
              "      <th>1</th>\n",
              "      <td>49.1</td>\n",
              "      <td>-33.8</td>\n",
              "      <td>-14.5</td>\n",
              "      <td>6.0</td>\n",
              "      <td>6.7</td>\n",
              "    </tr>\n",
              "    <tr>\n",
              "      <th>2</th>\n",
              "      <td>21.3</td>\n",
              "      <td>-19.4</td>\n",
              "      <td>-11.0</td>\n",
              "      <td>6.0</td>\n",
              "      <td>-3.4</td>\n",
              "    </tr>\n",
              "    <tr>\n",
              "      <th>3</th>\n",
              "      <td>-1.3</td>\n",
              "      <td>-3.0</td>\n",
              "      <td>4.3</td>\n",
              "      <td>6.0</td>\n",
              "      <td>6.8</td>\n",
              "    </tr>\n",
              "    <tr>\n",
              "      <th>4</th>\n",
              "      <td>4.1</td>\n",
              "      <td>-6.5</td>\n",
              "      <td>-6.4</td>\n",
              "      <td>6.0</td>\n",
              "      <td>-3.4</td>\n",
              "    </tr>\n",
              "    <tr>\n",
              "      <th>...</th>\n",
              "      <td>...</td>\n",
              "      <td>...</td>\n",
              "      <td>...</td>\n",
              "      <td>...</td>\n",
              "      <td>...</td>\n",
              "    </tr>\n",
              "    <tr>\n",
              "      <th>95</th>\n",
              "      <td>1.7</td>\n",
              "      <td>-3.6</td>\n",
              "      <td>-4.7</td>\n",
              "      <td>6.0</td>\n",
              "      <td>-0.4</td>\n",
              "    </tr>\n",
              "    <tr>\n",
              "      <th>96</th>\n",
              "      <td>0.1</td>\n",
              "      <td>-0.6</td>\n",
              "      <td>-1.9</td>\n",
              "      <td>6.0</td>\n",
              "      <td>5.5</td>\n",
              "    </tr>\n",
              "    <tr>\n",
              "      <th>97</th>\n",
              "      <td>-3.5</td>\n",
              "      <td>-5.8</td>\n",
              "      <td>6.0</td>\n",
              "      <td>6.0</td>\n",
              "      <td>2.9</td>\n",
              "    </tr>\n",
              "    <tr>\n",
              "      <th>98</th>\n",
              "      <td>3.2</td>\n",
              "      <td>-5.5</td>\n",
              "      <td>-5.9</td>\n",
              "      <td>6.0</td>\n",
              "      <td>-1.8</td>\n",
              "    </tr>\n",
              "    <tr>\n",
              "      <th>99</th>\n",
              "      <td>2.7</td>\n",
              "      <td>-4.9</td>\n",
              "      <td>-5.6</td>\n",
              "      <td>6.0</td>\n",
              "      <td>-0.9</td>\n",
              "    </tr>\n",
              "  </tbody>\n",
              "</table>\n",
              "<p>100 rows × 5 columns</p>\n",
              "</div>"
            ],
            "text/plain": [
              "    Power_3  Power_2  Power_1  Power_0  Target\n",
              "0      -2.4     -4.5      5.3      6.0     5.2\n",
              "1      49.1    -33.8    -14.5      6.0     6.7\n",
              "2      21.3    -19.4    -11.0      6.0    -3.4\n",
              "3      -1.3     -3.0      4.3      6.0     6.8\n",
              "4       4.1     -6.5     -6.4      6.0    -3.4\n",
              "..      ...      ...      ...      ...     ...\n",
              "95      1.7     -3.6     -4.7      6.0    -0.4\n",
              "96      0.1     -0.6     -1.9      6.0     5.5\n",
              "97     -3.5     -5.8      6.0      6.0     2.9\n",
              "98      3.2     -5.5     -5.9      6.0    -1.8\n",
              "99      2.7     -4.9     -5.6      6.0    -0.9\n",
              "\n",
              "[100 rows x 5 columns]"
            ]
          },
          "metadata": {
            "tags": []
          },
          "execution_count": 37
        }
      ]
    },
    {
      "cell_type": "markdown",
      "metadata": {
        "id": "srP5u1hIXHRU"
      },
      "source": [
        "### (d)\n",
        "Solve the linear regression using pseudo-inverse, and observe if the procedure can\n",
        "estimate the coe\u000ecients of the polynomial. Overlay the estimated polynomial y in\n",
        "the same figure.\n",
        "\n",
        "Useful resource:\n",
        "1D array and row vector, column vector (taking transpose of 1D arrays):\n",
        "https://note.nkmk.me/en/python-numpy-transpose/\n",
        "\n",
        "Note on np.reshape():\n",
        "The length of the dimension set to -1 is automatically determined by inferring from the specified values of other dimensions. This is useful when converting a large array shape.\n",
        "\n",
        "Note on matrix multiplication:\n",
        "np.matmul(x, y) was observed to give same answer as x.dot(y)"
      ]
    },
    {
      "cell_type": "code",
      "metadata": {
        "colab": {
          "base_uri": "https://localhost:8080/"
        },
        "id": "tmx-hg9lXGdV",
        "outputId": "ec69fe5e-bb6b-453c-ca02-e0713a80cdb2"
      },
      "source": [
        "# Find weights\n",
        "pinv_x_matrix = np.linalg.pinv(x_matrix) # Pseudo inverse of x matrix\n",
        "identity_matrix = np.matmul(pinv_x_matrix, x_matrix) # Verification of the pseudo inverse\n",
        "print('\\n Identity matrix: \\n', identity_matrix)\n",
        "w_vector = pinv_x_matrix.dot(t_vector)\n",
        "print('\\n Estimated coefficients: \\n', w_vector)\n",
        "\n",
        "# Find y (estimates of target)\n",
        "y_vector = x_matrix.dot(w_vector) \n",
        "print('\\n y: \\n', y_vector)\n",
        "\n",
        "# Plot\n",
        "ax.scatter(x_vector, y_vector, label='y')"
      ],
      "execution_count": null,
      "outputs": [
        {
          "output_type": "stream",
          "text": [
            "\n",
            " Identity matrix: \n",
            " [[ 1.00000000e+00 -3.37504271e-16 -5.08151097e-16 -3.56919355e-16]\n",
            " [ 4.80578656e-16  1.00000000e+00 -3.61309063e-16 -1.39130244e-16]\n",
            " [ 3.82668168e-16 -1.34143023e-16  1.00000000e+00 -1.35308431e-16]\n",
            " [ 8.75454726e-17 -6.24375058e-17  1.26911769e-16  1.00000000e+00]]\n",
            "\n",
            " Estimated coefficients: \n",
            " [0.99402575 1.00069294 1.00307608 1.01392874]\n",
            "\n",
            " y: \n",
            " [  4.56632254   6.51577538  -3.14964824   6.17463326  -2.69499894\n",
            "   2.55093183  -1.27667013  -3.5345047    3.87989059   1.23270265\n",
            "  -4.28546981  -1.22534069  -2.72613247   3.43385635   4.06941472\n",
            "  -3.32995481   5.81315662   4.58210817  -1.81802107 -12.19382094\n",
            "   6.97757192   3.51924754  -3.43146662   3.20229762   5.1435338\n",
            "   4.77660421   0.43063015  -2.7737482  -13.16959163  -3.23720352\n",
            "  -0.93357253  -3.853466    -3.8360157    1.45521454  -2.46427943\n",
            "   7.06352485   5.87035332  -1.9642595    3.55975639  -0.49361382\n",
            "   6.50006504   6.75198159  -4.05107241   2.11622106   7.22797073\n",
            "  -3.2526126  -11.62810046   7.08435665  -0.59359176  -4.27569212\n",
            "   7.67682879  -4.29291279   8.27055914  -4.30203259   0.69780497\n",
            " -10.30654872   1.76762346  -4.26561237   7.04236029   3.40101861\n",
            "  -8.38535862  -0.21689014   4.52670715   5.22664869  -2.55102309\n",
            "   1.88711506   1.00305926   2.70657886  -3.15308006  -3.47457044\n",
            "  -4.04158689  -3.69303749   3.87487131   3.84959334   1.09535743\n",
            "  -4.31365878  -3.98168751   7.3480467    1.2126122    6.68799217\n",
            "   7.3099095    3.32936291   7.02411363  -1.88787038   7.25551729\n",
            "  -2.85086702   7.15710292   4.76970974  -1.47541963   4.64912517\n",
            "   3.8030387    5.86207721   7.28079987   3.53639496  -2.84139151\n",
            "  -0.5597635    3.67763613   2.83906357  -2.08371604  -1.69756075]\n"
          ],
          "name": "stdout"
        },
        {
          "output_type": "execute_result",
          "data": {
            "text/plain": [
              "<matplotlib.collections.PathCollection at 0x7f5fd8eb1e10>"
            ]
          },
          "metadata": {
            "tags": []
          },
          "execution_count": 38
        }
      ]
    },
    {
      "cell_type": "code",
      "metadata": {
        "colab": {
          "base_uri": "https://localhost:8080/",
          "height": 389
        },
        "id": "LIDduyYMqN0n",
        "outputId": "2287556c-8dbb-413e-b1d6-59100c28c03f"
      },
      "source": [
        "# Plot 3rd degree polynomial, t and y in one plot\n",
        "f, ax = plt.subplots(1)\n",
        "ax.plot(np.sort(x_vector), np.polyval([2, -4, -5, 6], np.sort(x_vector)), label='3rd order polynomial of x', color='green')  # Plot of P3(x) vs x\n",
        "ax.scatter(x_vector, t_vector, label='t', marker='o', color='', edgecolors='red', alpha=0.7)  # target vs input\n",
        "ax.set_xlabel('input \"x\"')\n",
        "ax.set_ylabel('output')\n",
        "ax.scatter(x_vector, y_vector, label='y', color='', edgecolors='green', marker='s',)  # Estimates vs input\n",
        "ax.legend()"
      ],
      "execution_count": null,
      "outputs": [
        {
          "output_type": "stream",
          "text": [
            "/usr/local/lib/python3.7/dist-packages/ipykernel_launcher.py:4: MatplotlibDeprecationWarning: Using a string of single character colors as a color sequence is deprecated. Use an explicit list instead.\n",
            "  after removing the cwd from sys.path.\n",
            "/usr/local/lib/python3.7/dist-packages/ipykernel_launcher.py:7: MatplotlibDeprecationWarning: Using a string of single character colors as a color sequence is deprecated. Use an explicit list instead.\n",
            "  import sys\n"
          ],
          "name": "stderr"
        },
        {
          "output_type": "execute_result",
          "data": {
            "text/plain": [
              "<matplotlib.legend.Legend at 0x7f5fd8ff3550>"
            ]
          },
          "metadata": {
            "tags": []
          },
          "execution_count": 39
        },
        {
          "output_type": "display_data",
          "data": {
            "image/png": "[encoded data removed]",
            "text/plain": [
              "<Figure size 432x288 with 1 Axes>"
            ]
          },
          "metadata": {
            "tags": [],
            "needs_background": "light"
          }
        }
      ]
    },
    {
      "cell_type": "markdown",
      "metadata": {
        "id": "rcVrPacc-bH4"
      },
      "source": [
        "### (e)\n",
        "Increase the variance of the noise, and observe the impact on the estimated poly-\n",
        "nomial coe\u000ecients, and the variance of the plot, by repeating the process multiple\n",
        "times for the same noise variance."
      ]
    },
    {
      "cell_type": "code",
      "metadata": {
        "colab": {
          "base_uri": "https://localhost:8080/",
          "height": 799
        },
        "id": "uWLeXPmZ-gfq",
        "outputId": "85088235-0511-41d5-c91e-9243aea0f650"
      },
      "source": [
        "for noise_variance in np.arange(2, 3, 1):\n",
        "    for sample in np.arange(1, 5, 1):       \n",
        "        # Data split (train:test = 70:30)\n",
        "        # train_df, test_df = train_test_split(new_data_df, train_size=0.7, test_size=0.3, random_state=sample, shuffle=True) # Setting random_state would give same 5 samples every time we execute the code\n",
        "        # display(train_df.round(2))\n",
        "        # display(test_df.round(2))\n",
        "\n",
        "        # Sample new noise from Gaussian distribution with given variance\n",
        "        new_noise = np.random.normal(loc=0, scale=noise_variance, size=100)  \n",
        "\n",
        "        # Define the updated target variable\n",
        "        new_t_vector = P3_x_vector + new_noise\n",
        "\n",
        "        # Define new Dataframe for the data to avoid over-writing the previous one\n",
        "        new_data_df = data_df\n",
        "\n",
        "        # Update the new target in the data\n",
        "        new_data_df['Target'] = new_t_vector\n",
        "\n",
        "        display(data_df.round(2))\n",
        "        display(new_data_df.round(2))\n",
        "\n",
        "        # Define the updated coefficients  \n",
        "        new_w_vector = np.linalg.pinv(x_matrix).dot(new_t_vector)\n",
        "        \n",
        "        break\n",
        "\n"
      ],
      "execution_count": null,
      "outputs": [
        {
          "output_type": "display_data",
          "data": {
            "text/html": [
              "<div>\n",
              "<style scoped>\n",
              "    .dataframe tbody tr th:only-of-type {\n",
              "        vertical-align: middle;\n",
              "    }\n",
              "\n",
              "    .dataframe tbody tr th {\n",
              "        vertical-align: top;\n",
              "    }\n",
              "\n",
              "    .dataframe thead th {\n",
              "        text-align: right;\n",
              "    }\n",
              "</style>\n",
              "<table border=\"1\" class=\"dataframe\">\n",
              "  <thead>\n",
              "    <tr style=\"text-align: right;\">\n",
              "      <th></th>\n",
              "      <th>Power_3</th>\n",
              "      <th>Power_2</th>\n",
              "      <th>Power_1</th>\n",
              "      <th>Power_0</th>\n",
              "      <th>Target</th>\n",
              "    </tr>\n",
              "  </thead>\n",
              "  <tbody>\n",
              "    <tr>\n",
              "      <th>0</th>\n",
              "      <td>-2.36</td>\n",
              "      <td>-4.47</td>\n",
              "      <td>5.28</td>\n",
              "      <td>6.0</td>\n",
              "      <td>0.16</td>\n",
              "    </tr>\n",
              "    <tr>\n",
              "      <th>1</th>\n",
              "      <td>49.13</td>\n",
              "      <td>-33.80</td>\n",
              "      <td>-14.53</td>\n",
              "      <td>6.0</td>\n",
              "      <td>5.59</td>\n",
              "    </tr>\n",
              "    <tr>\n",
              "      <th>2</th>\n",
              "      <td>21.32</td>\n",
              "      <td>-19.37</td>\n",
              "      <td>-11.00</td>\n",
              "      <td>6.0</td>\n",
              "      <td>-4.20</td>\n",
              "    </tr>\n",
              "    <tr>\n",
              "      <th>3</th>\n",
              "      <td>-1.27</td>\n",
              "      <td>-2.96</td>\n",
              "      <td>4.30</td>\n",
              "      <td>6.0</td>\n",
              "      <td>8.95</td>\n",
              "    </tr>\n",
              "    <tr>\n",
              "      <th>4</th>\n",
              "      <td>4.14</td>\n",
              "      <td>-6.50</td>\n",
              "      <td>-6.37</td>\n",
              "      <td>6.0</td>\n",
              "      <td>-7.27</td>\n",
              "    </tr>\n",
              "    <tr>\n",
              "      <th>...</th>\n",
              "      <td>...</td>\n",
              "      <td>...</td>\n",
              "      <td>...</td>\n",
              "      <td>...</td>\n",
              "      <td>...</td>\n",
              "    </tr>\n",
              "    <tr>\n",
              "      <th>95</th>\n",
              "      <td>1.69</td>\n",
              "      <td>-3.58</td>\n",
              "      <td>-4.73</td>\n",
              "      <td>6.0</td>\n",
              "      <td>-1.00</td>\n",
              "    </tr>\n",
              "    <tr>\n",
              "      <th>96</th>\n",
              "      <td>0.11</td>\n",
              "      <td>-0.59</td>\n",
              "      <td>-1.92</td>\n",
              "      <td>6.0</td>\n",
              "      <td>6.19</td>\n",
              "    </tr>\n",
              "    <tr>\n",
              "      <th>97</th>\n",
              "      <td>-3.50</td>\n",
              "      <td>-5.81</td>\n",
              "      <td>6.02</td>\n",
              "      <td>6.0</td>\n",
              "      <td>1.36</td>\n",
              "    </tr>\n",
              "    <tr>\n",
              "      <th>98</th>\n",
              "      <td>3.21</td>\n",
              "      <td>-5.48</td>\n",
              "      <td>-5.85</td>\n",
              "      <td>6.0</td>\n",
              "      <td>-2.38</td>\n",
              "    </tr>\n",
              "    <tr>\n",
              "      <th>99</th>\n",
              "      <td>2.74</td>\n",
              "      <td>-4.93</td>\n",
              "      <td>-5.55</td>\n",
              "      <td>6.0</td>\n",
              "      <td>-2.60</td>\n",
              "    </tr>\n",
              "  </tbody>\n",
              "</table>\n",
              "<p>100 rows × 5 columns</p>\n",
              "</div>"
            ],
            "text/plain": [
              "    Power_3  Power_2  Power_1  Power_0  Target\n",
              "0     -2.36    -4.47     5.28      6.0    0.16\n",
              "1     49.13   -33.80   -14.53      6.0    5.59\n",
              "2     21.32   -19.37   -11.00      6.0   -4.20\n",
              "3     -1.27    -2.96     4.30      6.0    8.95\n",
              "4      4.14    -6.50    -6.37      6.0   -7.27\n",
              "..      ...      ...      ...      ...     ...\n",
              "95     1.69    -3.58    -4.73      6.0   -1.00\n",
              "96     0.11    -0.59    -1.92      6.0    6.19\n",
              "97    -3.50    -5.81     6.02      6.0    1.36\n",
              "98     3.21    -5.48    -5.85      6.0   -2.38\n",
              "99     2.74    -4.93    -5.55      6.0   -2.60\n",
              "\n",
              "[100 rows x 5 columns]"
            ]
          },
          "metadata": {
            "tags": []
          }
        },
        {
          "output_type": "display_data",
          "data": {
            "text/html": [
              "<div>\n",
              "<style scoped>\n",
              "    .dataframe tbody tr th:only-of-type {\n",
              "        vertical-align: middle;\n",
              "    }\n",
              "\n",
              "    .dataframe tbody tr th {\n",
              "        vertical-align: top;\n",
              "    }\n",
              "\n",
              "    .dataframe thead th {\n",
              "        text-align: right;\n",
              "    }\n",
              "</style>\n",
              "<table border=\"1\" class=\"dataframe\">\n",
              "  <thead>\n",
              "    <tr style=\"text-align: right;\">\n",
              "      <th></th>\n",
              "      <th>Power_3</th>\n",
              "      <th>Power_2</th>\n",
              "      <th>Power_1</th>\n",
              "      <th>Power_0</th>\n",
              "      <th>Target</th>\n",
              "    </tr>\n",
              "  </thead>\n",
              "  <tbody>\n",
              "    <tr>\n",
              "      <th>0</th>\n",
              "      <td>-2.36</td>\n",
              "      <td>-4.47</td>\n",
              "      <td>5.28</td>\n",
              "      <td>6.0</td>\n",
              "      <td>0.16</td>\n",
              "    </tr>\n",
              "    <tr>\n",
              "      <th>1</th>\n",
              "      <td>49.13</td>\n",
              "      <td>-33.80</td>\n",
              "      <td>-14.53</td>\n",
              "      <td>6.0</td>\n",
              "      <td>5.59</td>\n",
              "    </tr>\n",
              "    <tr>\n",
              "      <th>2</th>\n",
              "      <td>21.32</td>\n",
              "      <td>-19.37</td>\n",
              "      <td>-11.00</td>\n",
              "      <td>6.0</td>\n",
              "      <td>-4.20</td>\n",
              "    </tr>\n",
              "    <tr>\n",
              "      <th>3</th>\n",
              "      <td>-1.27</td>\n",
              "      <td>-2.96</td>\n",
              "      <td>4.30</td>\n",
              "      <td>6.0</td>\n",
              "      <td>8.95</td>\n",
              "    </tr>\n",
              "    <tr>\n",
              "      <th>4</th>\n",
              "      <td>4.14</td>\n",
              "      <td>-6.50</td>\n",
              "      <td>-6.37</td>\n",
              "      <td>6.0</td>\n",
              "      <td>-7.27</td>\n",
              "    </tr>\n",
              "    <tr>\n",
              "      <th>...</th>\n",
              "      <td>...</td>\n",
              "      <td>...</td>\n",
              "      <td>...</td>\n",
              "      <td>...</td>\n",
              "      <td>...</td>\n",
              "    </tr>\n",
              "    <tr>\n",
              "      <th>95</th>\n",
              "      <td>1.69</td>\n",
              "      <td>-3.58</td>\n",
              "      <td>-4.73</td>\n",
              "      <td>6.0</td>\n",
              "      <td>-1.00</td>\n",
              "    </tr>\n",
              "    <tr>\n",
              "      <th>96</th>\n",
              "      <td>0.11</td>\n",
              "      <td>-0.59</td>\n",
              "      <td>-1.92</td>\n",
              "      <td>6.0</td>\n",
              "      <td>6.19</td>\n",
              "    </tr>\n",
              "    <tr>\n",
              "      <th>97</th>\n",
              "      <td>-3.50</td>\n",
              "      <td>-5.81</td>\n",
              "      <td>6.02</td>\n",
              "      <td>6.0</td>\n",
              "      <td>1.36</td>\n",
              "    </tr>\n",
              "    <tr>\n",
              "      <th>98</th>\n",
              "      <td>3.21</td>\n",
              "      <td>-5.48</td>\n",
              "      <td>-5.85</td>\n",
              "      <td>6.0</td>\n",
              "      <td>-2.38</td>\n",
              "    </tr>\n",
              "    <tr>\n",
              "      <th>99</th>\n",
              "      <td>2.74</td>\n",
              "      <td>-4.93</td>\n",
              "      <td>-5.55</td>\n",
              "      <td>6.0</td>\n",
              "      <td>-2.60</td>\n",
              "    </tr>\n",
              "  </tbody>\n",
              "</table>\n",
              "<p>100 rows × 5 columns</p>\n",
              "</div>"
            ],
            "text/plain": [
              "    Power_3  Power_2  Power_1  Power_0  Target\n",
              "0     -2.36    -4.47     5.28      6.0    0.16\n",
              "1     49.13   -33.80   -14.53      6.0    5.59\n",
              "2     21.32   -19.37   -11.00      6.0   -4.20\n",
              "3     -1.27    -2.96     4.30      6.0    8.95\n",
              "4      4.14    -6.50    -6.37      6.0   -7.27\n",
              "..      ...      ...      ...      ...     ...\n",
              "95     1.69    -3.58    -4.73      6.0   -1.00\n",
              "96     0.11    -0.59    -1.92      6.0    6.19\n",
              "97    -3.50    -5.81     6.02      6.0    1.36\n",
              "98     3.21    -5.48    -5.85      6.0   -2.38\n",
              "99     2.74    -4.93    -5.55      6.0   -2.60\n",
              "\n",
              "[100 rows x 5 columns]"
            ]
          },
          "metadata": {
            "tags": []
          }
        }
      ]
    },
    {
      "cell_type": "code",
      "metadata": {
        "colab": {
          "base_uri": "https://localhost:8080/"
        },
        "id": "lOpbqAeFZuBx",
        "outputId": "5399f37b-99a6-4cdb-905a-00968c86354c"
      },
      "source": [
        "print(new_t_vector)\n",
        "print(t_vector)"
      ],
      "execution_count": null,
      "outputs": [
        {
          "output_type": "stream",
          "text": [
            "[  0.16345198   5.58778698  -4.19871996   8.95368638  -7.27151889\n",
            "  -2.09583404  -2.32682422  -3.31587017   3.02153311   2.40357022\n",
            "  -5.12123433  -0.21370109  -2.23578162   1.12301354   4.48276737\n",
            "  -4.10753019   5.38642834   4.60801072   0.78472684 -10.80604987\n",
            "   9.63088348   1.02694405  -2.56855838   1.12440211   5.64923165\n",
            "   5.83006998  -3.88126557  -0.30728904  -9.74122966   0.01532581\n",
            "   0.89463595  -2.57562458  -4.13865938   4.10076438  -5.55824774\n",
            "   7.38095899   4.75857754   0.88663547   1.15497205   3.02382875\n",
            "   6.51616929   6.47563177  -2.2843839    2.70672736   5.91209335\n",
            "  -2.2058232  -10.28921887   8.72537442   1.64330836  -3.49440657\n",
            "   5.17837163  -3.77573896   7.7166245   -3.3246869    1.90436352\n",
            "  -8.91304012   3.83867828  -1.18069012   7.05267245  -0.4369279\n",
            "  -6.0495321   -2.55141293   1.27968352   8.70400881  -1.71481025\n",
            "   4.15879806   3.04570441   2.84109019  -2.37376666  -3.81993453\n",
            "  -5.57798414  -0.32618855   2.67103186   5.286273     0.04916534\n",
            "  -2.4638746   -5.24201122   4.46049796   3.44880762   5.90612548\n",
            "   8.80832595   5.27411585   5.61255934  -3.20611842   6.45392149\n",
            "  -3.68396827   4.70709883   5.84648341  -4.77777652   4.18061549\n",
            "   0.37113341   8.80242476   5.86414975   4.05782155  -1.31935999\n",
            "  -0.99638971   6.19149016   1.35810277  -2.37604802  -2.60415217]\n",
            "[  5.2143712    6.70393509  -3.42045247   6.77341022  -3.37006448\n",
            "   2.02687275  -0.43782216  -2.84009633   4.50103074   0.36967427\n",
            "  -4.22553393  -2.9510309   -1.88856133   5.44128006   4.253572\n",
            "  -3.61596862   5.71631893   5.53674873  -2.37106756 -11.20874526\n",
            "   8.07363226   3.40314001  -1.46812594   2.36514011   5.04726141\n",
            "   4.54675113  -2.36709294  -3.56912292 -12.78631042  -2.96815367\n",
            "  -1.64292441  -3.2125783   -5.387959     1.44363421  -4.2793822\n",
            "   8.92105012   6.91763191  -2.02127451   4.50802238  -0.09449531\n",
            "   7.23807612   6.6880639   -2.41724289   1.46084027   6.78843578\n",
            "  -2.6748833  -10.62806409   8.07721047  -0.75565474  -3.57830841\n",
            "   7.4592022   -4.08529795   6.94145285  -5.06469698   0.17895522\n",
            "  -8.82979845   0.15235844  -4.56558818   7.36050834   3.00247649\n",
            "  -8.106361    -1.31219635   4.59459666   3.93946797  -1.75771386\n",
            "   0.98442783   2.68245486   2.05400753  -4.81255622  -4.50842432\n",
            "  -5.28499465  -3.12467627   4.05879034   3.3360036    1.31826164\n",
            "  -4.60833274  -3.96577638   6.98803509   1.55744766   8.08632279\n",
            "   6.83983155   2.33521186   8.1507565   -2.61964733   8.65126122\n",
            "  -2.70960993   6.92050052   5.51463076  -2.02042859   4.04821593\n",
            "   2.94220553   4.30650228   7.50135797   2.6555987   -3.6486427\n",
            "  -0.35879758   5.48857221   2.94235825  -1.7997342   -0.94437299]\n"
          ],
          "name": "stdout"
        }
      ]
    }
  ]
}